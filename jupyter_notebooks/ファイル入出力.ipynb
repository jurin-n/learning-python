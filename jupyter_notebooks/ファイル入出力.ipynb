{
 "cells": [
  {
   "cell_type": "code",
   "execution_count": 8,
   "metadata": {
    "collapsed": true
   },
   "outputs": [],
   "source": [
    "# ファイル新規書き込み\n",
    "bacon_file = open('bacon.txt','w')\n",
    "bacon_file.write(u'あああ\\n')\n",
    "bacon_file.close()"
   ]
  },
  {
   "cell_type": "code",
   "execution_count": 9,
   "metadata": {
    "collapsed": false
   },
   "outputs": [],
   "source": [
    "# ファイル追加書き込み\n",
    "bacon_file = open('bacon.txt','a')\n",
    "bacon_file .write('いいいiii\\n')\n",
    "bacon_file.close()"
   ]
  },
  {
   "cell_type": "code",
   "execution_count": 10,
   "metadata": {
    "collapsed": false
   },
   "outputs": [
    {
     "name": "stdout",
     "output_type": "stream",
     "text": [
      "あああ\n",
      "いいいiii\n",
      "\n"
     ]
    }
   ],
   "source": [
    "# ファイル読み込み\n",
    "bacon_file = open('bacon.txt')\n",
    "content = bacon_file.read()\n",
    "bacon_file.close()\n",
    "print(content)"
   ]
  },
  {
   "cell_type": "code",
   "execution_count": null,
   "metadata": {
    "collapsed": true
   },
   "outputs": [],
   "source": []
  }
 ],
 "metadata": {
  "anaconda-cloud": {},
  "kernelspec": {
   "display_name": "Python [conda root]",
   "language": "python",
   "name": "conda-root-py"
  },
  "language_info": {
   "codemirror_mode": {
    "name": "ipython",
    "version": 3
   },
   "file_extension": ".py",
   "mimetype": "text/x-python",
   "name": "python",
   "nbconvert_exporter": "python",
   "pygments_lexer": "ipython3",
   "version": "3.5.2"
  }
 },
 "nbformat": 4,
 "nbformat_minor": 1
}
