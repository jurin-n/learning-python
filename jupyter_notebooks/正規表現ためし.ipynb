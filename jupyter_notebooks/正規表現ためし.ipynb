{
 "cells": [
  {
   "cell_type": "code",
   "execution_count": null,
   "metadata": {},
   "outputs": [],
   "source": [
    "import re\n",
    "\n",
    "templete = {'regex':r'The (.*) Atribute of the (.*) Element  is XXX.', 'level':'High'}\n",
    "\n",
    "message1_regex = re.compile(templete.get('regex'))\n",
    "test_message1 = 'The id Atribute of the td Element  is XXX.'\n",
    "mo = message1_regex.search(test_message1)\n",
    "if mo is not None:\n",
    "    print('マッチ！')\n",
    "    print('level=' + templete.get('level') + ' ,regex='  + templete.get('regex') + ' ,message=' + test_message1)\n",
    "else:\n",
    "    print('見つからずorz')"
   ]
  },
  {
   "cell_type": "code",
   "execution_count": null,
   "metadata": {},
   "outputs": [],
   "source": [
    "mo = message1_regex.search('This is a Pen.')\n",
    "if mo is not None:\n",
    "    print('マッチ！')\n",
    "else:\n",
    "    print('見つからずorz')"
   ]
  },
  {
   "cell_type": "code",
   "execution_count": null,
   "metadata": {
    "collapsed": true
   },
   "outputs": [],
   "source": []
  }
 ],
 "metadata": {
  "kernelspec": {
   "display_name": "Python [default]",
   "language": "python",
   "name": "python3"
  },
  "language_info": {
   "codemirror_mode": {
    "name": "ipython",
    "version": 3
   },
   "file_extension": ".py",
   "mimetype": "text/x-python",
   "name": "python",
   "nbconvert_exporter": "python",
   "pygments_lexer": "ipython3",
   "version": "3.5.3"
  }
 },
 "nbformat": 4,
 "nbformat_minor": 2
}
