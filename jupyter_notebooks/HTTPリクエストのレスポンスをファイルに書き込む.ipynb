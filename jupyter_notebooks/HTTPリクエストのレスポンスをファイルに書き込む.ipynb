{
 "cells": [
  {
   "cell_type": "code",
   "execution_count": 13,
   "metadata": {
    "collapsed": false
   },
   "outputs": [],
   "source": [
    "import requests\n",
    "# GitHubAPIにリクエスト\n",
    "res = requests.get('https://api.github.com')\n",
    "res.raise_for_status()\n",
    "\n",
    "# ファイルオープン\n",
    "play_file = open('GitHubAPI.txt', 'wb')\n",
    "\n",
    "# レスポンス書き込む\n",
    "for chunk in res.iter_content(100*1024):\n",
    "         play_file.write(chunk)\n",
    "\n",
    "# ファイルクローズ        \n",
    "play_file.close()\n"
   ]
  },
  {
   "cell_type": "code",
   "execution_count": null,
   "metadata": {
    "collapsed": true
   },
   "outputs": [],
   "source": []
  }
 ],
 "metadata": {
  "anaconda-cloud": {},
  "kernelspec": {
   "display_name": "Python [conda root]",
   "language": "python",
   "name": "conda-root-py"
  },
  "language_info": {
   "codemirror_mode": {
    "name": "ipython",
    "version": 3
   },
   "file_extension": ".py",
   "mimetype": "text/x-python",
   "name": "python",
   "nbconvert_exporter": "python",
   "pygments_lexer": "ipython3",
   "version": "3.5.2"
  }
 },
 "nbformat": 4,
 "nbformat_minor": 1
}
