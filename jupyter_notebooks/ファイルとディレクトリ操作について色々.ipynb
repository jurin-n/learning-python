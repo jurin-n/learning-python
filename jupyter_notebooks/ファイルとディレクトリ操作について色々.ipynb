{
 "cells": [
  {
   "cell_type": "code",
   "execution_count": 2,
   "metadata": {
    "collapsed": false
   },
   "outputs": [],
   "source": [
    "import os"
   ]
  },
  {
   "cell_type": "code",
   "execution_count": 3,
   "metadata": {
    "collapsed": false
   },
   "outputs": [
    {
     "data": {
      "text/plain": [
       "'/Users/junnakano/development/jupyter'"
      ]
     },
     "execution_count": 3,
     "metadata": {},
     "output_type": "execute_result"
    }
   ],
   "source": [
    "# カレントディレクトリ取得\n",
    "os.getcwd()"
   ]
  },
  {
   "cell_type": "code",
   "execution_count": 4,
   "metadata": {
    "collapsed": false
   },
   "outputs": [
    {
     "data": {
      "text/plain": [
       "'aa/bb'"
      ]
     },
     "execution_count": 4,
     "metadata": {},
     "output_type": "execute_result"
    }
   ],
   "source": [
    "# パス連結\n",
    "os.path.join('aa','bb')"
   ]
  },
  {
   "cell_type": "code",
   "execution_count": 6,
   "metadata": {
    "collapsed": false
   },
   "outputs": [],
   "source": [
    "# ディレクトリ作成\n",
    "dir_name=os.path.join('aa','bb')\n",
    "# カレントディレクトリ配下にaa/bb ディレクトリ作成\n",
    "os.makedirs(dir_name)"
   ]
  },
  {
   "cell_type": "code",
   "execution_count": 14,
   "metadata": {
    "collapsed": false
   },
   "outputs": [
    {
     "data": {
      "text/plain": [
       "['.DS_Store',\n",
       " '.ipynb_checkpoints',\n",
       " 'aa',\n",
       " 'bacon.txt',\n",
       " 'GitHubAPI.txt',\n",
       " 'HTTPリクエストのレスポンスをファイルに書き込む.ipynb',\n",
       " 'RemeoAndJuliet.txt',\n",
       " 'Untitled.ipynb',\n",
       " 'Untitled1.ipynb',\n",
       " 'Untitled2.ipynb',\n",
       " 'Untitled3.ipynb',\n",
       " 'Untitled4.ipynb',\n",
       " 'Untitled5.ipynb',\n",
       " 'Untitled6.ipynb',\n",
       " 'Untitled7.ipynb',\n",
       " 'ファイル入出力.ipynb']"
      ]
     },
     "execution_count": 14,
     "metadata": {},
     "output_type": "execute_result"
    }
   ],
   "source": [
    "# カレントディレクトリ配下のファイル一覧\n",
    "os.listdir()"
   ]
  },
  {
   "cell_type": "code",
   "execution_count": 11,
   "metadata": {
    "collapsed": false
   },
   "outputs": [
    {
     "data": {
      "text/plain": [
       "['test.txt']"
      ]
     },
     "execution_count": 11,
     "metadata": {},
     "output_type": "execute_result"
    }
   ],
   "source": [
    "# カレントディレクトリ配下 aa/bb ディレクトリ配下のファイル一覧表示\n",
    "dir_name=os.path.join('aa','bb')\n",
    "os.listdir(dir_name)"
   ]
  },
  {
   "cell_type": "code",
   "execution_count": 21,
   "metadata": {
    "collapsed": false
   },
   "outputs": [
    {
     "data": {
      "text/plain": [
       "True"
      ]
     },
     "execution_count": 21,
     "metadata": {},
     "output_type": "execute_result"
    }
   ],
   "source": [
    "# カレントディレクトリ配下のaa/bb ディレクトリが存在するか確認。あればTrue。\n",
    "dir_name=os.path.join('aa','bb')\n",
    "os.path.exists(dir_name)"
   ]
  },
  {
   "cell_type": "code",
   "execution_count": 30,
   "metadata": {
    "collapsed": false
   },
   "outputs": [
    {
     "name": "stdout",
     "output_type": "stream",
     "text": [
      ".DS_Store is File.\n",
      ".ipynb_checkpoints is not File.\n",
      "aa is not File.\n",
      "bacon.txt is File.\n",
      "GitHubAPI.txt is File.\n",
      "HTTPリクエストのレスポンスをファイルに書き込む.ipynb is File.\n",
      "RemeoAndJuliet.txt is File.\n",
      "Untitled.ipynb is File.\n",
      "Untitled1.ipynb is File.\n",
      "Untitled2.ipynb is File.\n",
      "Untitled3.ipynb is File.\n",
      "Untitled4.ipynb is File.\n",
      "Untitled5.ipynb is File.\n",
      "Untitled6.ipynb is File.\n",
      "Untitled7.ipynb is File.\n",
      "ファイル入出力.ipynb is File.\n"
     ]
    }
   ],
   "source": [
    "# カレントディレクトリ配下のファイル一覧がファイルか確認。\n",
    "for check_file_name in os.listdir():\n",
    "    if os.path.isfile(check_file_name):\n",
    "        print(check_file_name + ' is File.')\n",
    "    else:\n",
    "        print(check_file_name + ' is not File.')\n",
    "    "
   ]
  },
  {
   "cell_type": "code",
   "execution_count": 31,
   "metadata": {
    "collapsed": false
   },
   "outputs": [
    {
     "name": "stdout",
     "output_type": "stream",
     "text": [
      ".DS_Store is not Directory.\n",
      ".ipynb_checkpoints is Directory.\n",
      "aa is Directory.\n",
      "bacon.txt is not Directory.\n",
      "GitHubAPI.txt is not Directory.\n",
      "HTTPリクエストのレスポンスをファイルに書き込む.ipynb is not Directory.\n",
      "RemeoAndJuliet.txt is not Directory.\n",
      "Untitled.ipynb is not Directory.\n",
      "Untitled1.ipynb is not Directory.\n",
      "Untitled2.ipynb is not Directory.\n",
      "Untitled3.ipynb is not Directory.\n",
      "Untitled4.ipynb is not Directory.\n",
      "Untitled5.ipynb is not Directory.\n",
      "Untitled6.ipynb is not Directory.\n",
      "Untitled7.ipynb is not Directory.\n",
      "ファイル入出力.ipynb is not Directory.\n"
     ]
    }
   ],
   "source": [
    "# カレントディレクトリ配下のファイル一覧がファイルか確認。\n",
    "for check_file_name in os.listdir():\n",
    "    if os.path.isdir(check_file_name):\n",
    "        print(check_file_name + ' is Directory.')\n",
    "    else:\n",
    "        print(check_file_name + ' is not Directory.')"
   ]
  },
  {
   "cell_type": "code",
   "execution_count": null,
   "metadata": {
    "collapsed": true
   },
   "outputs": [],
   "source": []
  }
 ],
 "metadata": {
  "anaconda-cloud": {},
  "kernelspec": {
   "display_name": "Python [conda root]",
   "language": "python",
   "name": "conda-root-py"
  },
  "language_info": {
   "codemirror_mode": {
    "name": "ipython",
    "version": 3
   },
   "file_extension": ".py",
   "mimetype": "text/x-python",
   "name": "python",
   "nbconvert_exporter": "python",
   "pygments_lexer": "ipython3",
   "version": "3.5.2"
  }
 },
 "nbformat": 4,
 "nbformat_minor": 1
}
