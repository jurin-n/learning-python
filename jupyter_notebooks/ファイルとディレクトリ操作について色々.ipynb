{
 "cells": [
  {
   "cell_type": "code",
   "execution_count": null,
   "metadata": {
    "collapsed": false
   },
   "outputs": [],
   "source": [
    "import os"
   ]
  },
  {
   "cell_type": "code",
   "execution_count": null,
   "metadata": {
    "collapsed": false
   },
   "outputs": [],
   "source": [
    "# カレントディレクトリ取得\n",
    "os.getcwd()"
   ]
  },
  {
   "cell_type": "code",
   "execution_count": null,
   "metadata": {
    "collapsed": false
   },
   "outputs": [],
   "source": [
    "# パス連結\n",
    "os.path.join('aa','bb')"
   ]
  },
  {
   "cell_type": "code",
   "execution_count": null,
   "metadata": {
    "collapsed": false
   },
   "outputs": [],
   "source": [
    "# ディレクトリ作成\n",
    "dir_name=os.path.join('aa','bb')\n",
    "# カレントディレクトリ配下にaa/bb ディレクトリ作成\n",
    "os.makedirs(dir_name)"
   ]
  },
  {
   "cell_type": "code",
   "execution_count": null,
   "metadata": {
    "collapsed": false
   },
   "outputs": [],
   "source": [
    "# カレントディレクトリ配下のファイル一覧\n",
    "os.listdir()"
   ]
  },
  {
   "cell_type": "code",
   "execution_count": null,
   "metadata": {
    "collapsed": false
   },
   "outputs": [],
   "source": [
    "# カレントディレクトリ配下 aa/bb ディレクトリ配下のファイル一覧表示\n",
    "dir_name=os.path.join('aa','bb')\n",
    "os.listdir(dir_name)"
   ]
  },
  {
   "cell_type": "code",
   "execution_count": null,
   "metadata": {
    "collapsed": false
   },
   "outputs": [],
   "source": [
    "# カレントディレクトリ配下のaa/bb ディレクトリが存在するか確認。あればTrue。\n",
    "dir_name=os.path.join('aa','bb')\n",
    "os.path.exists(dir_name)"
   ]
  },
  {
   "cell_type": "code",
   "execution_count": null,
   "metadata": {
    "collapsed": false
   },
   "outputs": [],
   "source": [
    "# カレントディレクトリ配下のファイル一覧がファイルか確認。\n",
    "for check_file_name in os.listdir():\n",
    "    if os.path.isfile(check_file_name):\n",
    "        print(check_file_name + ' is File.')\n",
    "    else:\n",
    "        print(check_file_name + ' is not File.')\n",
    "    "
   ]
  },
  {
   "cell_type": "code",
   "execution_count": null,
   "metadata": {
    "collapsed": false
   },
   "outputs": [],
   "source": [
    "# カレントディレクトリ配下のファイル一覧がファイルか確認。\n",
    "for check_file_name in os.listdir():\n",
    "    if os.path.isdir(check_file_name):\n",
    "        print(check_file_name + ' is Directory.')\n",
    "    else:\n",
    "        print(check_file_name + ' is not Directory.')"
   ]
  },
  {
   "cell_type": "code",
   "execution_count": null,
   "metadata": {
    "collapsed": true
   },
   "outputs": [],
   "source": []
  }
 ],
 "metadata": {
  "anaconda-cloud": {},
  "kernelspec": {
   "display_name": "Python [conda root]",
   "language": "python",
   "name": "conda-root-py"
  },
  "language_info": {
   "codemirror_mode": {
    "name": "ipython",
    "version": 3
   },
   "file_extension": ".py",
   "mimetype": "text/x-python",
   "name": "python",
   "nbconvert_exporter": "python",
   "pygments_lexer": "ipython3",
   "version": "3.5.2"
  }
 },
 "nbformat": 4,
 "nbformat_minor": 1
}
