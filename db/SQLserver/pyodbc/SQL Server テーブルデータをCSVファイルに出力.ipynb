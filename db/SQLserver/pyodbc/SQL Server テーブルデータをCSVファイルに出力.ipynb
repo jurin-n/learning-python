{
 "cells": [
  {
   "cell_type": "code",
   "execution_count": null,
   "metadata": {},
   "outputs": [],
   "source": [
    "#!pip install pyodbc\n",
    "#!pip install pandas"
   ]
  },
  {
   "cell_type": "code",
   "execution_count": null,
   "metadata": {},
   "outputs": [],
   "source": [
    "import pyodbc\n",
    "import pandas as pd\n",
    "import csv\n",
    "import struct"
   ]
  },
  {
   "cell_type": "code",
   "execution_count": null,
   "metadata": {},
   "outputs": [],
   "source": [
    "TABLES = [\n",
    "    'AudioFile',\n",
    "    'Practice', \n",
    "    'Menu',\n",
    "]"
   ]
  },
  {
   "cell_type": "code",
   "execution_count": null,
   "metadata": {},
   "outputs": [],
   "source": [
    "SERVER = 'localhost\\SQLEXPRESS'\n",
    "DATABASE = 'dev2'\n",
    "UID = 'user01'\n",
    "PWD = 'test123'\n",
    "\n",
    "# DRIVER に指定できるODBCドライバ名のリストは、\n",
    "# 下記のようにdriversメソッド実行で確認し、適当なものを指定。\n",
    "# import pyodbc\n",
    "# pyodbc.drivers()\n",
    "con = pyodbc.connect('DRIVER={ODBC Driver 17 for SQL Server};SERVER='+SERVER+';DATABASE='+DATABASE+';UID='+UID+';PWD='+PWD)\n",
    "\n",
    "# datetimeoffset型の対策\n",
    "#  参考：https://stackoverflow.com/questions/46405373/odbc-sql-type-155-is-not-yet-supported\n",
    "def handle_datetimeoffset(dto_value):\n",
    "    # ref: https://github.com/mkleehammer/pyodbc/issues/134#issuecomment-281739794\n",
    "    tup = struct.unpack(\"<6hI2h\", dto_value)  # e.g., (2017, 3, 16, 10, 35, 18, 0, -6, 0)\n",
    "    tweaked = [tup[i] // 100 if i == 6 else tup[i] for i in range(len(tup))]\n",
    "    return \"{:04d}-{:02d}-{:02d} {:02d}:{:02d}:{:02d}.{:07d} {:+03d}:{:02d}\".format(*tweaked)\n",
    "con.add_output_converter(-155, handle_datetimeoffset)\n",
    "\n",
    "for t in TABLES:\n",
    "    query = 'SELECT * FROM %s;' % (t)\n",
    "    out_file = '.\\_out\\%s.csv' % (t)\n",
    "    print('-'*100)\n",
    "    print('query    : %s' % (query))\n",
    "    print('out_file : %s' % (out_file))\n",
    "    df = pd.read_sql(query, con)\n",
    "    df.to_csv(out_file, index=False, encoding='utf-8', quoting=csv.QUOTE_NONNUMERIC)\n",
    "con.close()"
   ]
  }
 ],
 "metadata": {
  "kernelspec": {
   "display_name": "Python 3",
   "language": "python",
   "name": "python3"
  },
  "language_info": {
   "codemirror_mode": {
    "name": "ipython",
    "version": 3
   },
   "file_extension": ".py",
   "mimetype": "text/x-python",
   "name": "python",
   "nbconvert_exporter": "python",
   "pygments_lexer": "ipython3",
   "version": "3.8.5"
  }
 },
 "nbformat": 4,
 "nbformat_minor": 4
}
