{
 "cells": [
  {
   "cell_type": "code",
   "execution_count": 2,
   "metadata": {},
   "outputs": [
    {
     "name": "stdout",
     "output_type": "stream",
     "text": [
      "Collecting sqlalchemy\n",
      "  Downloading SQLAlchemy-1.3.19-cp38-cp38-win_amd64.whl (1.2 MB)\n",
      "Installing collected packages: sqlalchemy\n",
      "Successfully installed sqlalchemy-1.3.19\n"
     ]
    }
   ],
   "source": [
    "#!pip install sqlalchemy"
   ]
  },
  {
   "cell_type": "code",
   "execution_count": 7,
   "metadata": {},
   "outputs": [],
   "source": [
    "import pyodbc\n",
    "import pandas as pd\n",
    "import csv\n",
    "import sqlalchemy\n",
    "import urllib"
   ]
  },
  {
   "cell_type": "code",
   "execution_count": 8,
   "metadata": {},
   "outputs": [
    {
     "data": {
      "text/html": [
       "<div>\n",
       "<style scoped>\n",
       "    .dataframe tbody tr th:only-of-type {\n",
       "        vertical-align: middle;\n",
       "    }\n",
       "\n",
       "    .dataframe tbody tr th {\n",
       "        vertical-align: top;\n",
       "    }\n",
       "\n",
       "    .dataframe thead th {\n",
       "        text-align: right;\n",
       "    }\n",
       "</style>\n",
       "<table border=\"1\" class=\"dataframe\">\n",
       "  <thead>\n",
       "    <tr style=\"text-align: right;\">\n",
       "      <th></th>\n",
       "      <th>PracticeId</th>\n",
       "      <th>DateTimeOfImplementation</th>\n",
       "      <th>MenuId</th>\n",
       "      <th>ValueOfUnit</th>\n",
       "    </tr>\n",
       "  </thead>\n",
       "  <tbody>\n",
       "    <tr>\n",
       "      <th>0</th>\n",
       "      <td>061c8c69-b505-4a1d-a5de-2dbdba1284b4</td>\n",
       "      <td>2020-09-14 00:00:00.0000000 +09:00</td>\n",
       "      <td>ID001</td>\n",
       "      <td>10</td>\n",
       "    </tr>\n",
       "    <tr>\n",
       "      <th>1</th>\n",
       "      <td>1dc1931d-0717-4024-98d2-82e3fb180fef</td>\n",
       "      <td>2020-09-19 00:00:00.0000000 +09:00</td>\n",
       "      <td>ID001</td>\n",
       "      <td>100</td>\n",
       "    </tr>\n",
       "    <tr>\n",
       "      <th>2</th>\n",
       "      <td>2882d90c-6fb5-44b6-97f9-0a3ca36af2e3</td>\n",
       "      <td>2020-09-17 00:00:00.0000000 +09:00</td>\n",
       "      <td>ID001</td>\n",
       "      <td>120</td>\n",
       "    </tr>\n",
       "    <tr>\n",
       "      <th>3</th>\n",
       "      <td>41275ac6-0ff4-4b3d-b59d-5b185dee363d</td>\n",
       "      <td>2020-09-18 00:00:00.0000000 +09:00</td>\n",
       "      <td>ID001</td>\n",
       "      <td>10</td>\n",
       "    </tr>\n",
       "    <tr>\n",
       "      <th>4</th>\n",
       "      <td>80c567ab-1b8d-44f0-8a60-6fc3a585dd0a</td>\n",
       "      <td>2020-09-14 00:00:00.0000000 +09:00</td>\n",
       "      <td>ID003</td>\n",
       "      <td>90</td>\n",
       "    </tr>\n",
       "  </tbody>\n",
       "</table>\n",
       "</div>"
      ],
      "text/plain": [
       "                             PracticeId            DateTimeOfImplementation  \\\n",
       "0  061c8c69-b505-4a1d-a5de-2dbdba1284b4  2020-09-14 00:00:00.0000000 +09:00   \n",
       "1  1dc1931d-0717-4024-98d2-82e3fb180fef  2020-09-19 00:00:00.0000000 +09:00   \n",
       "2  2882d90c-6fb5-44b6-97f9-0a3ca36af2e3  2020-09-17 00:00:00.0000000 +09:00   \n",
       "3  41275ac6-0ff4-4b3d-b59d-5b185dee363d  2020-09-18 00:00:00.0000000 +09:00   \n",
       "4  80c567ab-1b8d-44f0-8a60-6fc3a585dd0a  2020-09-14 00:00:00.0000000 +09:00   \n",
       "\n",
       "  MenuId  ValueOfUnit  \n",
       "0  ID001           10  \n",
       "1  ID001          100  \n",
       "2  ID001          120  \n",
       "3  ID001           10  \n",
       "4  ID003           90  "
      ]
     },
     "execution_count": 8,
     "metadata": {},
     "output_type": "execute_result"
    }
   ],
   "source": [
    "df = pd.read_csv(\"_out\\Practice.csv\", engine='python',encoding='utf-8')\n",
    "df.head()"
   ]
  },
  {
   "cell_type": "code",
   "execution_count": 9,
   "metadata": {},
   "outputs": [],
   "source": [
    "# PyODBCのコネクションプーリングを無効にする（念のため）\n",
    "#   参考）\n",
    "#      Microsoft SQL Server — SQLAlchemy 1.3 Documentation https://docs.sqlalchemy.org/en/13/dialects/mssql.html#pyodbc-pooling-connection-close-behavior\n",
    "pyodbc.pooling = False\n",
    "\n",
    "# PyODBCの背t図億文字列を作成。これを追加委SQLAlchemy使いDB接続。\n",
    "SERVER = 'localhost\\SQLEXPRESS'\n",
    "DATABASE = 'dev2'\n",
    "UID = 'user01'\n",
    "PWD = 'test123'\n",
    "params = urllib.parse.quote_plus('DRIVER={ODBC Driver 17 for SQL Server};SERVER='+SERVER+';DATABASE='+DATABASE+';UID='+UID+';PWD='+PWD)\n",
    "engine = sqlalchemy.create_engine('mssql+pyodbc:///?odbc_connect=%s' % params)\n",
    "\n",
    "# DataFrameをDBテーブルに格納\n",
    "df.to_sql(\"Practice2\", engine, if_exists='append', index=False)"
   ]
  },
  {
   "cell_type": "code",
   "execution_count": null,
   "metadata": {},
   "outputs": [],
   "source": []
  }
 ],
 "metadata": {
  "kernelspec": {
   "display_name": "Python 3",
   "language": "python",
   "name": "python3"
  },
  "language_info": {
   "codemirror_mode": {
    "name": "ipython",
    "version": 3
   },
   "file_extension": ".py",
   "mimetype": "text/x-python",
   "name": "python",
   "nbconvert_exporter": "python",
   "pygments_lexer": "ipython3",
   "version": "3.8.5"
  }
 },
 "nbformat": 4,
 "nbformat_minor": 4
}
