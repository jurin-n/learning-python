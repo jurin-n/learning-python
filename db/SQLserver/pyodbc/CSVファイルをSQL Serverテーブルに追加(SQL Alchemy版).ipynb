{
 "cells": [
  {
   "cell_type": "code",
   "execution_count": null,
   "metadata": {},
   "outputs": [],
   "source": [
    "#!pip install sqlalchemy"
   ]
  },
  {
   "cell_type": "code",
   "execution_count": null,
   "metadata": {},
   "outputs": [],
   "source": [
    "import pyodbc\n",
    "import pandas as pd\n",
    "import csv\n",
    "import sqlalchemy\n",
    "import urllib"
   ]
  },
  {
   "cell_type": "code",
   "execution_count": null,
   "metadata": {},
   "outputs": [],
   "source": [
    "df = pd.read_csv(\"_out\\Practice.csv\", engine='python',encoding='utf-8')\n",
    "df.head()"
   ]
  },
  {
   "cell_type": "code",
   "execution_count": null,
   "metadata": {},
   "outputs": [],
   "source": [
    "# PyODBCのコネクションプーリングを無効にする（念のため）\n",
    "#   参考）\n",
    "#      Microsoft SQL Server — SQLAlchemy 1.3 Documentation https://docs.sqlalchemy.org/en/13/dialects/mssql.html#pyodbc-pooling-connection-close-behavior\n",
    "pyodbc.pooling = False\n",
    "\n",
    "# PyODBCの背t図億文字列を作成。これを追加委SQLAlchemy使いDB接続。\n",
    "SERVER = 'localhost\\SQLEXPRESS'\n",
    "DATABASE = 'dev2'\n",
    "UID = 'user01'\n",
    "PWD = 'test123'\n",
    "params = urllib.parse.quote_plus('DRIVER={ODBC Driver 17 for SQL Server};SERVER='+SERVER+';DATABASE='+DATABASE+';UID='+UID+';PWD='+PWD)\n",
    "engine = sqlalchemy.create_engine('mssql+pyodbc:///?odbc_connect=%s' % params)\n",
    "\n",
    "# DataFrameをDBテーブルに格納\n",
    "df.to_sql(\"Practice2\", engine, if_exists='append', index=False)"
   ]
  }
 ],
 "metadata": {
  "kernelspec": {
   "display_name": "Python 3",
   "language": "python",
   "name": "python3"
  },
  "language_info": {
   "codemirror_mode": {
    "name": "ipython",
    "version": 3
   },
   "file_extension": ".py",
   "mimetype": "text/x-python",
   "name": "python",
   "nbconvert_exporter": "python",
   "pygments_lexer": "ipython3",
   "version": "3.8.5"
  }
 },
 "nbformat": 4,
 "nbformat_minor": 4
}
